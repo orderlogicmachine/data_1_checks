{
 "cells": [
  {
   "cell_type": "code",
   "execution_count": 13,
   "metadata": {},
   "outputs": [
    {
     "name": "stdout",
     "output_type": "stream",
     "text": [
      "hello world! \n",
      " Jupyter Notebooks work in VSCode too!\n"
     ]
    }
   ],
   "source": [
    "print('hello world! \\n Jupyter Notebooks work in VSCode too!')"
   ]
  },
  {
   "cell_type": "code",
   "execution_count": 14,
   "metadata": {},
   "outputs": [
    {
     "name": "stdout",
     "output_type": "stream",
     "text": [
      "The 6th place driver in the 2021 WDC was Norris.\n",
      "<class 'list'>\n"
     ]
    }
   ],
   "source": [
    "f12021drivers = ['Verstappen', 'Hamilton', 'Bottas', 'Perez', 'Sainz', 'Norris', 'Leclerc', 'Ricciardo', 'Gasly', 'Alonso', \n",
    "'Ocon', 'Vettel', 'Stroll', 'Tsunoda', 'Russell', 'Raikkonen', 'Latifi', 'Giovinazzi', 'Schumacher', 'Mazepin', 'Kubica',]\n",
    "\n",
    "print(\"The 6th place driver in the 2021 WDC was \" + f12021drivers[5] + \".\")\n",
    "print(type(f12021drivers))"
   ]
  },
  {
   "cell_type": "code",
   "execution_count": 15,
   "metadata": {},
   "outputs": [
    {
     "name": "stdout",
     "output_type": "stream",
     "text": [
      "The driver with the number 3 is Ricciardo.\n",
      "<class 'dict'>\n"
     ]
    }
   ],
   "source": [
    "mclaren2022drivers = {\n",
    "    \"3\": \"Ricciardo\",\n",
    "    \"4\": \"Norris\"\n",
    "}\n",
    "\n",
    "driverNumber = \"3\"\n",
    "\n",
    "print(\"The driver with the number \" + driverNumber + \" is \" + mclaren2022drivers[\"3\"] + \".\")\n",
    "print(type(mclaren2022drivers))"
   ]
  },
  {
   "cell_type": "code",
   "execution_count": 16,
   "metadata": {},
   "outputs": [
    {
     "name": "stdout",
     "output_type": "stream",
     "text": [
      "The driver in WDC position 1 is Verstappen.\n",
      "<class 'tuple'>\n"
     ]
    }
   ],
   "source": [
    "top4drivers2022 = (\"Verstappen\", \"Perez\", \"Leclerc\", \"Russell\")\n",
    "\n",
    "driverPosition = 1\n",
    "\n",
    "print(\"The driver in WDC position \" + str(driverPosition) + \" is \" + top4drivers2022[(driverPosition - 1)] + \".\")\n",
    "print(type(top4drivers2022))"
   ]
  }
 ],
 "metadata": {
  "kernelspec": {
   "display_name": "Python 3.10.4 64-bit",
   "language": "python",
   "name": "python3"
  },
  "language_info": {
   "codemirror_mode": {
    "name": "ipython",
    "version": 3
   },
   "file_extension": ".py",
   "mimetype": "text/x-python",
   "name": "python",
   "nbconvert_exporter": "python",
   "pygments_lexer": "ipython3",
   "version": "3.10.4"
  },
  "orig_nbformat": 4,
  "vscode": {
   "interpreter": {
    "hash": "aee8b7b246df8f9039afb4144a1f6fd8d2ca17a180786b69acc140d282b71a49"
   }
  }
 },
 "nbformat": 4,
 "nbformat_minor": 2
}
